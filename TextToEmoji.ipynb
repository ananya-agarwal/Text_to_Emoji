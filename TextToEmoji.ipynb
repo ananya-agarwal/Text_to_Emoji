{
  "nbformat": 4,
  "nbformat_minor": 0,
  "metadata": {
    "colab": {
      "name": "TextToEmoji.ipynb",
      "provenance": []
    },
    "kernelspec": {
      "name": "python3",
      "display_name": "Python 3"
    },
    "language_info": {
      "name": "python"
    }
  },
  "cells": [
    {
      "cell_type": "code",
      "execution_count": 8,
      "metadata": {
        "colab": {
          "base_uri": "https://localhost:8080/"
        },
        "id": "uDdhxxgvZdMX",
        "outputId": "f1f5325f-7b90-44e3-e9cc-b17dcf917754"
      },
      "outputs": [
        {
          "output_type": "stream",
          "name": "stdout",
          "text": [
            "Give the text corresponding to which you want the emoji\n",
            "i love mermaid\n",
            " i love 🧜‍ \n"
          ]
        }
      ],
      "source": [
        "def  emoji_converter(message):\n",
        "     words = message.split( \" \")\n",
        "     emojis = {\n",
        "        \":)\" : \"😀\",\n",
        "        \":(\" : \"😞\",\n",
        "        \"lol\" : \"😂\",\n",
        "        \"sick\":\"😨\",\n",
        "        \"happy\": \"😀\",\n",
        "        \"mermaid\": \"🧜‍\"\n",
        "     }\n",
        "     outcome = \" \"\n",
        "     for word in words:\n",
        "         outcome += emojis.get(word, word) + \" \"\n",
        "     return outcome\n",
        "\n",
        "print(\"Give the text corresponding to which you want the emoji\")\n",
        "message = input()\n",
        "print(emoji_converter(message))"
      ]
    }
  ]
}